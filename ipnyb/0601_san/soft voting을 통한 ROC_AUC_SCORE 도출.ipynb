{
 "cells": [
  {
   "cell_type": "code",
   "execution_count": null,
   "metadata": {},
   "outputs": [],
   "source": [
    "from sklearn.model_selection import train_test_split\n",
    "from lightgbm import LGBMClassifier\n",
    "from sklearn.metrics import roc_auc_score\n",
    "from sklearn.tree import DecisionTreeClassifier\n",
    "from sklearn.ensemble import RandomForestClassifier, AdaBoostClassifier, ExtraTreesClassifier, BaggingClassifier, GradientBoostingClassifier\n",
    "from sklearn.svm import SVC\n",
    "from xgboost import XGBClassifier\n",
    "from lightgbm import LGBMClassifier\n",
    "from sklearn.neighbors import KNeighborsClassifier\n",
    "from sklearn.linear_model import LogisticRegressionCV, RidgeClassifier\n",
    "from sklearn.model_selection import cross_validate\n",
    "\n",
    "# VotingClassifier\n",
    "from sklearn.ensemble import VotingClassifier\n",
    "\n",
    "# 5가지 모델을 이용\n",
    "models = [\n",
    "    ('rfc', RandomForestClassifier(random_state=13, n_jobs=-1, n_estimators=1000)),\n",
    "    ('lgbm', LGBMClassifier(n_estimators=2000, num_leaves=32, n_jobs=-1,boost_from_average=False,C = 100.)),\n",
    "    ('xgb', XGBClassifier(n_estimators=500, learning_rate = 0.1,C = 100)),\n",
    "    ('etc',ExtraTreesClassifier(n_estimators=100, random_state=13)), \n",
    "    ('bc', BaggingClassifier(base_estimator=XGBClassifier(),n_estimators=10, random_state=13))\n",
    "    ]\n",
    "\n",
    "# 모델 성능 평가를 위한 Radom_state 지정 \n",
    "random_state = []\n",
    "for j in range(1,101): \n",
    "    random_state.append(j)\n",
    "ai = []\n",
    "\n",
    "# soft voting을 통해 AUC_ROC SCORE 평균 확인\n",
    "for rand in random_state:\n",
    "  X_train,X_test,y_train,y_test=train_test_split(X_lgb,y,test_size=0.2,random_state= rand,stratify=y) #train, test 분류 \n",
    "  soft_vote  = VotingClassifier(models, voting='soft')\n",
    "  soft_vote.fit(X_train, y_train)\n",
    "  pred_proba_1 = soft_vote.predict_proba(X_test)[:,1]\n",
    "  auc_test = roc_auc_score(y_test, pred_proba_1)\n",
    "  print('random_state=', rand,'  ' ,'auc_test =', auc_test)\n",
    "  print('')\n",
    "  ai.append(float(auc_test))\n",
    "print(ai)\n",
    "print(sum(ai)/len(ai))  #전체 score 평균"
   ]
  }
 ],
 "metadata": {
  "kernelspec": {
   "display_name": "Python 3",
   "language": "python",
   "name": "python3"
  },
  "language_info": {
   "codemirror_mode": {
    "name": "ipython",
    "version": 3
   },
   "file_extension": ".py",
   "mimetype": "text/x-python",
   "name": "python",
   "nbconvert_exporter": "python",
   "pygments_lexer": "ipython3",
   "version": "3.8.5"
  }
 },
 "nbformat": 4,
 "nbformat_minor": 4
}
